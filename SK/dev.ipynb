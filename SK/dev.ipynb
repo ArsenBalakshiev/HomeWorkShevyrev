{
 "cells": [
  {
   "cell_type": "code",
   "execution_count": 1,
   "metadata": {},
   "outputs": [],
   "source": [
    "import helpers\n",
    "from algorithms.search import depthFirstSearch, breadthFirstSearch\n",
    "from algorithms.dijkstra import dijkstrasAlgorithm\n",
    "from algorithms.spanningTree.kruskalAlg import KruskalGraph\n",
    "from algorithms.spanningTree.primAlg import prim\n",
    "from maxStream.dinic import DinicGraph\n",
    "from maxStream.ford import FordGraph\n",
    "from entity.graph import Graph"
   ]
  },
  {
   "cell_type": "markdown",
   "metadata": {},
   "source": [
    "1. Поиск в глубину"
   ]
  },
  {
   "cell_type": "code",
   "execution_count": 2,
   "metadata": {},
   "outputs": [
    {
     "name": "stdout",
     "output_type": "stream",
     "text": [
      "Node - 0\n",
      "Node - 7\n",
      "Node - 11\n",
      "Node - 8\n",
      "Node - 10\n",
      "Node - 9\n",
      "Node - 6\n",
      "Node - 1\n",
      "Node - 5\n",
      "Node - 2\n",
      "Node - 4\n",
      "Node - 3\n",
      "[0, 7, 11, 8, 10, 9, 6, 1, 5, 2, 4, 3]\n"
     ]
    },
    {
     "data": {
      "text/plain": [
       "True"
      ]
     },
     "execution_count": 2,
     "metadata": {},
     "output_type": "execute_result"
    }
   ],
   "source": [
    "G = Graph(12)\n",
    "helpers.readJson(\"data/search.py\", G)\n",
    "depthFirstSearch.dfs(G, 0, 11)"
   ]
  },
  {
   "cell_type": "markdown",
   "metadata": {},
   "source": [
    "2. Поиск в ширину"
   ]
  },
  {
   "cell_type": "code",
   "execution_count": 3,
   "metadata": {},
   "outputs": [
    {
     "name": "stdout",
     "output_type": "stream",
     "text": [
      "Node - 0\n",
      "Node - 1\n",
      "Node - 6\n",
      "Node - 7\n",
      "Node - 2\n",
      "Node - 5\n",
      "Node - 8\n",
      "Node - 11\n",
      "Node - 3\n",
      "Node - 4\n",
      "Node - 9\n",
      "Node - 10\n",
      "[0, 1, 6, 7, 2, 5, 8, 11, 3, 4, 9, 10]\n"
     ]
    },
    {
     "data": {
      "text/plain": [
       "True"
      ]
     },
     "execution_count": 3,
     "metadata": {},
     "output_type": "execute_result"
    }
   ],
   "source": [
    "G = Graph(12)\n",
    "helpers.readJson(\"data/search.py\", G)\n",
    "breadthFirstSearch.bfs(G, 0, 11)"
   ]
  },
  {
   "cell_type": "markdown",
   "metadata": {},
   "source": [
    "3. Алгоритм Дийкстры"
   ]
  },
  {
   "cell_type": "code",
   "execution_count": 4,
   "metadata": {},
   "outputs": [
    {
     "name": "stdout",
     "output_type": "stream",
     "text": [
      "Найден следующий лучший маршрут 19.\n",
      "0 -> 2 -> 4 -> 5\n"
     ]
    }
   ],
   "source": [
    "G = Graph(6)\n",
    "helpers.readJson(\"data/dks.json\", G)\n",
    "dijkstrasAlgorithm.start(0, 5, G)"
   ]
  },
  {
   "cell_type": "markdown",
   "metadata": {},
   "source": [
    "4. Жданые алгоритмы построения остовного дерева"
   ]
  },
  {
   "cell_type": "markdown",
   "metadata": {},
   "source": [
    "4.1. Алгоритм Прима"
   ]
  },
  {
   "cell_type": "code",
   "execution_count": 5,
   "metadata": {},
   "outputs": [
    {
     "data": {
      "text/plain": [
       "[[0, 3], [3, 5], [0, 1], [1, 4], [4, 2], [4, 6]]"
      ]
     },
     "execution_count": 5,
     "metadata": {},
     "output_type": "execute_result"
    }
   ],
   "source": [
    "G = Graph(7)\n",
    "helpers.readJson(\"data/sptree.json\", G)\n",
    "prim(G, 0)"
   ]
  },
  {
   "cell_type": "markdown",
   "metadata": {},
   "source": [
    "4.2. Алгоритм Краскала"
   ]
  },
  {
   "cell_type": "code",
   "execution_count": 6,
   "metadata": {},
   "outputs": [
    {
     "ename": "KeyboardInterrupt",
     "evalue": "",
     "output_type": "error",
     "traceback": [
      "\u001b[1;31m---------------------------------------------------------------------------\u001b[0m",
      "\u001b[1;31mKeyboardInterrupt\u001b[0m                         Traceback (most recent call last)",
      "Cell \u001b[1;32mIn [6], line 3\u001b[0m\n\u001b[0;32m      1\u001b[0m G \u001b[39m=\u001b[39m KruskalGraph(\u001b[39m7\u001b[39m)\n\u001b[0;32m      2\u001b[0m helpers\u001b[39m.\u001b[39mreadJson(\u001b[39m\"\u001b[39m\u001b[39mdata/sptree.json\u001b[39m\u001b[39m\"\u001b[39m, G)\n\u001b[1;32m----> 3\u001b[0m G\u001b[39m.\u001b[39;49mkruskal_algo()\n",
      "File \u001b[1;32mc:\\Users\\arsik\\Desktop\\HomeWork\\HomeWorkShevyrev\\SK\\algorithms\\spanningTree\\kruskalAlg.py:51\u001b[0m, in \u001b[0;36mKruskalGraph.kruskal_algo\u001b[1;34m(self)\u001b[0m\n\u001b[0;32m     49\u001b[0m u, v, w \u001b[39m=\u001b[39m \u001b[39mself\u001b[39m\u001b[39m.\u001b[39mgraph[i]\n\u001b[0;32m     50\u001b[0m i \u001b[39m+\u001b[39m\u001b[39m=\u001b[39m i\n\u001b[1;32m---> 51\u001b[0m x \u001b[39m=\u001b[39m \u001b[39mself\u001b[39;49m\u001b[39m.\u001b[39;49mfind(parent, u)\n\u001b[0;32m     52\u001b[0m y \u001b[39m=\u001b[39m \u001b[39mself\u001b[39m\u001b[39m.\u001b[39mfind(parent, v)\n\u001b[0;32m     53\u001b[0m \u001b[39m#если добавление этого ребра не приводит к циклу, то добавляем и увеличиваем индекс Е\u001b[39;00m\n",
      "File \u001b[1;32mc:\\Users\\arsik\\Desktop\\HomeWork\\HomeWorkShevyrev\\SK\\algorithms\\spanningTree\\kruskalAlg.py:13\u001b[0m, in \u001b[0;36mKruskalGraph.find\u001b[1;34m(self, parent, i)\u001b[0m\n\u001b[0;32m      9\u001b[0m     \u001b[39mself\u001b[39m\u001b[39m.\u001b[39mgraph\u001b[39m.\u001b[39mappend([u, v, w])\n\u001b[0;32m     11\u001b[0m \u001b[39m# Search function\u001b[39;00m\n\u001b[1;32m---> 13\u001b[0m \u001b[39mdef\u001b[39;00m \u001b[39mfind\u001b[39m(\u001b[39mself\u001b[39m, parent, i):\n\u001b[0;32m     14\u001b[0m     \u001b[39mif\u001b[39;00m parent[i] \u001b[39m==\u001b[39m i:\n\u001b[0;32m     15\u001b[0m         \u001b[39mreturn\u001b[39;00m i\n",
      "\u001b[1;31mKeyboardInterrupt\u001b[0m: "
     ]
    }
   ],
   "source": [
    "G = KruskalGraph(7)\n",
    "helpers.readJson(\"data/sptree.json\", G)\n",
    "G.kruskal_algo()"
   ]
  },
  {
   "cell_type": "markdown",
   "metadata": {},
   "source": [
    "5. Максимальный поток в сети"
   ]
  },
  {
   "cell_type": "code",
   "execution_count": null,
   "metadata": {},
   "outputs": [
    {
     "name": "stdout",
     "output_type": "stream",
     "text": [
      "15\n"
     ]
    }
   ],
   "source": [
    "G = FordGraph()\n",
    "helpers.readJson(\"data/stream2.json\", G)\n",
    "print(G.max_flow(0, 5))"
   ]
  },
  {
   "cell_type": "code",
   "execution_count": null,
   "metadata": {},
   "outputs": [
    {
     "name": "stdout",
     "output_type": "stream",
     "text": [
      "15\n"
     ]
    }
   ],
   "source": [
    "G = DinicGraph(6)\n",
    "helpers.readJson(\"data/stream2.json\", G)\n",
    "print(G.max_flow(0, 5))"
   ]
  },
  {
   "cell_type": "markdown",
   "metadata": {},
   "source": [
    "Применение алгоритма Форда-Фалкерсона к максимальному потоку в водопроводной сети"
   ]
  },
  {
   "cell_type": "code",
   "execution_count": 7,
   "metadata": {},
   "outputs": [
    {
     "name": "stdout",
     "output_type": "stream",
     "text": [
      "135\n"
     ]
    }
   ],
   "source": [
    "G = FordGraph()\n",
    "helpers.readJson(\"data/streamApplWater.json\", G)\n",
    "print(G.max_flow(1, 6))"
   ]
  }
 ],
 "metadata": {
  "kernelspec": {
   "display_name": "Python 3.10.7 64-bit",
   "language": "python",
   "name": "python3"
  },
  "language_info": {
   "codemirror_mode": {
    "name": "ipython",
    "version": 3
   },
   "file_extension": ".py",
   "mimetype": "text/x-python",
   "name": "python",
   "nbconvert_exporter": "python",
   "pygments_lexer": "ipython3",
   "version": "3.10.7"
  },
  "orig_nbformat": 4,
  "vscode": {
   "interpreter": {
    "hash": "26de051ba29f2982a8de78e945f0abaf191376122a1563185a90213a26c5da77"
   }
  }
 },
 "nbformat": 4,
 "nbformat_minor": 2
}
