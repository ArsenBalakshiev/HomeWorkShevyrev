{
 "cells": [
  {
   "cell_type": "code",
   "execution_count": 1,
   "metadata": {},
   "outputs": [],
   "source": [
    "import helpers\n",
    "from algorithms.search import depthFirstSearch, breadthFirstSearch\n",
    "from algorithms.dijkstra import dijkstrasAlgorithm\n",
    "from algorithms.spanningTree.kruskalAlg import KruskalGraph\n",
    "from algorithms.spanningTree.primAlg import prim, prim2\n",
    "from maxStream.dinic import DinicGraph\n",
    "from maxStream.ford import FordGraph\n",
    "from entity.graph import Graph"
   ]
  },
  {
   "cell_type": "markdown",
   "metadata": {},
   "source": [
    "1. Поиск в глубину"
   ]
  },
  {
   "cell_type": "code",
   "execution_count": 3,
   "metadata": {},
   "outputs": [
    {
     "name": "stdout",
     "output_type": "stream",
     "text": [
      "Node - 0\n",
      "Node - 7\n",
      "Node - 11\n",
      "Node - 8\n",
      "Node - 10\n",
      "Node - 9\n",
      "Node - 6\n",
      "Node - 1\n",
      "Node - 5\n",
      "Node - 2\n",
      "Node - 4\n",
      "Node - 3\n",
      "[0, 7, 11, 8, 10, 9, 6, 1, 5, 2, 4, 3]\n"
     ]
    },
    {
     "data": {
      "text/plain": [
       "True"
      ]
     },
     "execution_count": 3,
     "metadata": {},
     "output_type": "execute_result"
    }
   ],
   "source": [
    "G = Graph(12)\n",
    "helpers.readJson(\"data/search.py\", G)\n",
    "depthFirstSearch.dfs(G, 0, 11)"
   ]
  },
  {
   "cell_type": "markdown",
   "metadata": {},
   "source": [
    "2. Поиск в ширину"
   ]
  },
  {
   "cell_type": "code",
   "execution_count": 4,
   "metadata": {},
   "outputs": [
    {
     "name": "stdout",
     "output_type": "stream",
     "text": [
      "Node - 0\n",
      "deque([1, 6, 7])\n",
      "Node - 1\n",
      "deque([6, 7, 2, 5])\n",
      "Node - 6\n",
      "deque([7, 2, 5])\n",
      "Node - 7\n",
      "deque([2, 5, 8, 11])\n",
      "Node - 2\n",
      "deque([5, 8, 11, 3, 4])\n",
      "Node - 5\n",
      "deque([8, 11, 3, 4])\n",
      "Node - 8\n",
      "deque([11, 3, 4, 9, 10])\n",
      "Node - 11\n",
      "deque([3, 4, 9, 10])\n",
      "Node - 3\n",
      "deque([4, 9, 10])\n",
      "Node - 4\n",
      "deque([9, 10])\n",
      "Node - 9\n",
      "deque([10])\n",
      "Node - 10\n",
      "[0, 1, 6, 7, 2, 5, 8, 11, 3, 4, 9, 10]\n"
     ]
    },
    {
     "data": {
      "text/plain": [
       "True"
      ]
     },
     "execution_count": 4,
     "metadata": {},
     "output_type": "execute_result"
    }
   ],
   "source": [
    "G = Graph(12)\n",
    "helpers.readJson(\"data/search.py\", G)\n",
    "breadthFirstSearch.bfs(G, 0, 11)"
   ]
  },
  {
   "cell_type": "markdown",
   "metadata": {},
   "source": [
    "3. Алгоритм Дийкстры"
   ]
  },
  {
   "cell_type": "code",
   "execution_count": 8,
   "metadata": {},
   "outputs": [
    {
     "name": "stdout",
     "output_type": "stream",
     "text": [
      "Найден следующий лучший маршрут 19.\n",
      "0 -> 2 -> 4 -> 5\n"
     ]
    }
   ],
   "source": [
    "G = Graph(6)\n",
    "helpers.readJson(\"data/dks.json\", G)\n",
    "dijkstrasAlgorithm.start(0, 5, G)"
   ]
  },
  {
   "cell_type": "markdown",
   "metadata": {},
   "source": [
    "4. Жданые алгоритмы построения остовного дерева"
   ]
  },
  {
   "cell_type": "markdown",
   "metadata": {},
   "source": [
    "4.1. Алгоритм Прима"
   ]
  },
  {
   "cell_type": "code",
   "execution_count": 2,
   "metadata": {},
   "outputs": [
    {
     "data": {
      "text/plain": [
       "[[0, 3], [3, 5], [0, 1], [1, 4], [4, 2], [4, 6]]"
      ]
     },
     "execution_count": 2,
     "metadata": {},
     "output_type": "execute_result"
    }
   ],
   "source": [
    "G = Graph(7)\n",
    "helpers.readJson(\"data/sptree.json\", G)\n",
    "prim(G, 0)"
   ]
  },
  {
   "cell_type": "markdown",
   "metadata": {},
   "source": [
    "4.2. Алгоритм Краскала"
   ]
  },
  {
   "cell_type": "code",
   "execution_count": 7,
   "metadata": {},
   "outputs": [
    {
     "name": "stdout",
     "output_type": "stream",
     "text": [
      "0 - 3: 5\n",
      "2 - 4: 5\n",
      "3 - 5: 6\n",
      "0 - 1: 7\n",
      "1 - 4: 7\n",
      "4 - 6: 9\n"
     ]
    }
   ],
   "source": [
    "G = KruskalGraph(7)\n",
    "helpers.readJson(\"data/sptree.json\", G)\n",
    "G.kruskal_algo()"
   ]
  },
  {
   "cell_type": "markdown",
   "metadata": {},
   "source": [
    "5. Максимальный поток в сети"
   ]
  },
  {
   "cell_type": "code",
   "execution_count": 8,
   "metadata": {},
   "outputs": [
    {
     "name": "stdout",
     "output_type": "stream",
     "text": [
      "15\n"
     ]
    }
   ],
   "source": [
    "G = FordGraph()\n",
    "helpers.readJson(\"data/stream2.json\", G)\n",
    "print(G.max_flow(0, 5))"
   ]
  },
  {
   "cell_type": "code",
   "execution_count": 9,
   "metadata": {},
   "outputs": [
    {
     "name": "stdout",
     "output_type": "stream",
     "text": [
      "15\n"
     ]
    }
   ],
   "source": [
    "G = DinicGraph(6)\n",
    "helpers.readJson(\"data/stream2.json\", G)\n",
    "print(G.max_flow(0, 5))"
   ]
  }
 ],
 "metadata": {
  "kernelspec": {
   "display_name": "Python 3.10.7 64-bit",
   "language": "python",
   "name": "python3"
  },
  "language_info": {
   "codemirror_mode": {
    "name": "ipython",
    "version": 3
   },
   "file_extension": ".py",
   "mimetype": "text/x-python",
   "name": "python",
   "nbconvert_exporter": "python",
   "pygments_lexer": "ipython3",
   "version": "3.10.7"
  },
  "orig_nbformat": 4,
  "vscode": {
   "interpreter": {
    "hash": "26de051ba29f2982a8de78e945f0abaf191376122a1563185a90213a26c5da77"
   }
  }
 },
 "nbformat": 4,
 "nbformat_minor": 2
}
